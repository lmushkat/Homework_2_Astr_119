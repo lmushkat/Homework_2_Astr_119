{
 "cells": [
  {
   "cell_type": "code",
   "execution_count": null,
   "metadata": {},
   "outputs": [],
   "source": [
    "import numpy as np\n",
    "import matplotlib.pyplot as plt\n",
    "%matplotlib inline"
   ]
  },
  {
   "cell_type": "code",
   "execution_count": null,
   "metadata": {},
   "outputs": [],
   "source": [
    "x = np.linspace(0, 2*np.pi, 1000)"
   ]
  },
  {
   "cell_type": "markdown",
   "metadata": {},
   "source": [
    "I am about to plot (a) of hw 2"
   ]
  },
  {
   "cell_type": "code",
   "execution_count": null,
   "metadata": {
    "scrolled": true
   },
   "outputs": [],
   "source": [
    "y_a = 5.5*np.cos(2*x) + 5.5"
   ]
  },
  {
   "cell_type": "code",
   "execution_count": null,
   "metadata": {
    "scrolled": true
   },
   "outputs": [],
   "source": [
    "plt.plot(x , y_a)\n",
    "plt.xlim(0 , 2*np.pi )\n",
    "plt.ylim(-1 , 10)\n",
    "plt.xlabel(\"time in Astro 119\")\n",
    "plt.ylabel(\"Measures of Awsomeness\")"
   ]
  },
  {
   "cell_type": "code",
   "execution_count": null,
   "metadata": {},
   "outputs": [],
   "source": [
    "def func_b(x):\n",
    "    return .02 * np.exp(x)"
   ]
  },
  {
   "cell_type": "code",
   "execution_count": null,
   "metadata": {},
   "outputs": [],
   "source": [
    "y_b= func_b(x)"
   ]
  },
  {
   "cell_type": "code",
   "execution_count": null,
   "metadata": {},
   "outputs": [],
   "source": [
    "plt.plot(x,y_b)\n",
    "plt.xlim(0 ,2*np.pi)\n",
    "plt.ylim(-1 , 10)\n",
    "plt.xlabel(\"Time in Astr 119\")\n",
    "plt.xlabel(\"Measures of Awesomness\")"
   ]
  },
  {
   "cell_type": "code",
   "execution_count": null,
   "metadata": {},
   "outputs": [],
   "source": [
    "def func_c(x):\n",
    "    return .25 * x**2 +0.1*np.sin(10*x)"
   ]
  },
  {
   "cell_type": "code",
   "execution_count": null,
   "metadata": {},
   "outputs": [],
   "source": [
    "y_c= func_c(x)\n",
    "plt.plot(x,y_c)\n",
    "plt.xlim(0 ,2* np.pi)\n",
    "plt.ylim(-1 , 10)\n",
    "plt.xlabel(\"Time in Astro 119\")\n",
    "plt.xlabel(\"Measure of Awesomeness\")"
   ]
  },
  {
   "cell_type": "code",
   "execution_count": null,
   "metadata": {},
   "outputs": [],
   "source": [
    "plt.plot(x,y_a, 'r')\n",
    "plt.plot(x, y_b, 'b')\n",
    "plt.plot(x, y_c, 'g')\n",
    "plt.xlim(0,2*np.pi)\n",
    "plt.xlim(-1,10)\n",
    "plt.xlabel(\"Time in Astro 119\")\n",
    "plt.ylabel(\"Measure of Awesomeness\")"
   ]
  },
  {
   "cell_type": "code",
   "execution_count": null,
   "metadata": {},
   "outputs": [],
   "source": []
  },
  {
   "cell_type": "code",
   "execution_count": null,
   "metadata": {},
   "outputs": [],
   "source": []
  },
  {
   "cell_type": "code",
   "execution_count": null,
   "metadata": {},
   "outputs": [],
   "source": []
  }
 ],
 "metadata": {
  "kernelspec": {
   "display_name": "Python 3",
   "language": "python",
   "name": "python3"
  },
  "language_info": {
   "codemirror_mode": {
    "name": "ipython",
    "version": 3
   },
   "file_extension": ".py",
   "mimetype": "text/x-python",
   "name": "python",
   "nbconvert_exporter": "python",
   "pygments_lexer": "ipython3",
   "version": "3.6.5"
  }
 },
 "nbformat": 4,
 "nbformat_minor": 2
}
